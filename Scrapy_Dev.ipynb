{
 "cells": [
  {
   "cell_type": "code",
   "execution_count": null,
   "metadata": {},
   "outputs": [],
   "source": []
  },
  {
   "attachments": {},
   "cell_type": "markdown",
   "metadata": {},
   "source": [
    "# Links"
   ]
  },
  {
   "attachments": {},
   "cell_type": "markdown",
   "metadata": {},
   "source": [
    "[Main Tutorial For Scrapy](https://www.scrapingbee.com/blog/crawling-python/)\n",
    "\n",
    "[Side Tutorial for Scrapy](https://www.scrapingbee.com/blog/web-scraping-with-scrapy/)\n",
    "\n",
    "https://www.renegadejuggling.com/ -Main Page\n",
    "\n",
    "[Renegade Juggling Product Page](https://www.renegadejuggling.com/play-mmx-filled-stage-ball-62mm)"
   ]
  },
  {
   "attachments": {},
   "cell_type": "markdown",
   "metadata": {},
   "source": [
    "# Dependencies"
   ]
  },
  {
   "attachments": {},
   "cell_type": "markdown",
   "metadata": {},
   "source": [
    "1. pip install scrapy\n",
    "2. pip install virtual env\n",
    "3. virtualenv scrapy_env\n",
    "4. \"scrapy_env\\Scripts\\activate.bat\"\n",
    "5. if you do this correctly in CMD terminal then each line of the terminal will start with '(scrapy_env)'\n"
   ]
  },
  {
   "cell_type": "markdown",
   "metadata": {},
   "source": []
  }
 ],
 "metadata": {
  "language_info": {
   "name": "python"
  },
  "orig_nbformat": 4
 },
 "nbformat": 4,
 "nbformat_minor": 2
}
