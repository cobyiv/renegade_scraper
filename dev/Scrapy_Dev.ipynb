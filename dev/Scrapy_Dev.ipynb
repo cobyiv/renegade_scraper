{
 "cells": [
  {
   "cell_type": "code",
   "execution_count": null,
   "metadata": {},
   "outputs": [],
   "source": []
  },
  {
   "attachments": {},
   "cell_type": "markdown",
   "metadata": {},
   "source": [
    "# Links"
   ]
  },
  {
   "attachments": {},
   "cell_type": "markdown",
   "metadata": {},
   "source": [
    "[Main Tutorial For Scrapy](https://www.scrapingbee.com/blog/crawling-python/)\n",
    "\n",
    "[Side Tutorial for Scrapy](https://www.scrapingbee.com/blog/web-scraping-with-scrapy/)\n",
    "\n",
    "https://www.renegadejuggling.com/ -Main Page\n",
    "\n",
    "[Renegade Juggling Product Page](https://www.renegadejuggling.com/play-mmx-filled-stage-ball-62mm)"
   ]
  },
  {
   "attachments": {},
   "cell_type": "markdown",
   "metadata": {},
   "source": [
    "# Dependencies"
   ]
  },
  {
   "attachments": {},
   "cell_type": "markdown",
   "metadata": {},
   "source": [
    "1. pip install scrapy\n",
    "2. pip install virtual env\n",
    "3. virtualenv scrapy_env\n",
    "4. \"scrapy_env\\Scripts\\activate.bat\"\n",
    "5. if you do this correctly in CMD terminal then each line of the terminal will start with '(scrapy_env)'\n"
   ]
  },
  {
   "cell_type": "markdown",
   "metadata": {},
   "source": []
  },
  {
   "cell_type": "code",
   "execution_count": 104,
   "metadata": {},
   "outputs": [],
   "source": [
    "import pandas as pd\n",
    "import datetime\n",
    "import regex as re\n"
   ]
  },
  {
   "cell_type": "code",
   "execution_count": 105,
   "metadata": {},
   "outputs": [],
   "source": [
    "data = pd.read_json(\"product_scraper\\output.json\")"
   ]
  },
  {
   "cell_type": "code",
   "execution_count": 54,
   "metadata": {},
   "outputs": [
    {
     "name": "stdout",
     "output_type": "stream",
     "text": [
      "2023.03.11-04.38PM\n"
     ]
    }
   ],
   "source": []
  },
  {
   "cell_type": "code",
   "execution_count": 106,
   "metadata": {},
   "outputs": [],
   "source": [
    "filtered_data = data[data['Item'].str.contains('STOCK|stock|Stock')]\n",
    "filtered_data = filtered_data.sort_values(by='Title')"
   ]
  },
  {
   "cell_type": "code",
   "execution_count": 88,
   "metadata": {},
   "outputs": [],
   "source": [
    "# filtered_data['separator_counter'] = filtered_data['Categories'].str.count(' \\| ')\n",
    "# category_max_count = int(filtered_data['separator_counter'].max())\n",
    "# new_category_columns = [f'Category_{i+1}' for i in range(category_max_count+1)]\n",
    "# filtered_data[new_category_columns] = filtered_data['categories'].str.split(' \\| ', expand=True)"
   ]
  },
  {
   "cell_type": "code",
   "execution_count": 107,
   "metadata": {},
   "outputs": [],
   "source": [
    "# Extract numerical values from item column using regular expressions\n",
    "filtered_data['Stock Quantity'] = filtered_data['Item'].apply(lambda x: re.findall(r'\\((\\d+)\\s*[Ii][Nn]\\s*[Ss][Tt][Oo][Cc][Kk]\\)', x)).apply(lambda x: int(x[0]) if len(x) > 0 else 0)\n",
    "\n",
    "# Set Stock Quantity to 0 if 'OUT OF STOCK' or 'Out of Stock' is present in item column\n",
    "filtered_data.loc[filtered_data['Item'].str.contains('OUT OF STOCK|Out of Stock|out of stock'), 'Stock Quantity'] = 0\n"
   ]
  },
  {
   "cell_type": "code",
   "execution_count": 108,
   "metadata": {},
   "outputs": [],
   "source": [
    "# filtered_data.drop('categories', axis=1, inplace=True)\n",
    "# filtered_data.drop('separator_counter', axis=1, inplace=True)\n",
    "filtered_data.insert(3, 'Stock Quantity', filtered_data.pop('Stock Quantity'))"
   ]
  },
  {
   "cell_type": "code",
   "execution_count": 109,
   "metadata": {},
   "outputs": [],
   "source": [
    "# reset index to start from 1\n",
    "filtered_data = filtered_data.reset_index(drop=True)\n",
    "filtered_data.index += 1"
   ]
  },
  {
   "cell_type": "code",
   "execution_count": 110,
   "metadata": {},
   "outputs": [
    {
     "data": {
      "text/html": [
       "<div>\n",
       "<style scoped>\n",
       "    .dataframe tbody tr th:only-of-type {\n",
       "        vertical-align: middle;\n",
       "    }\n",
       "\n",
       "    .dataframe tbody tr th {\n",
       "        vertical-align: top;\n",
       "    }\n",
       "\n",
       "    .dataframe thead th {\n",
       "        text-align: right;\n",
       "    }\n",
       "</style>\n",
       "<table border=\"1\" class=\"dataframe\">\n",
       "  <thead>\n",
       "    <tr style=\"text-align: right;\">\n",
       "      <th></th>\n",
       "      <th>Title</th>\n",
       "      <th>SKU</th>\n",
       "      <th>Item</th>\n",
       "      <th>Stock Quantity</th>\n",
       "      <th>Categories</th>\n",
       "    </tr>\n",
       "  </thead>\n",
       "  <tbody>\n",
       "    <tr>\n",
       "      <th>1</th>\n",
       "      <td>Lotus and Tulip Fans</td>\n",
       "      <td>FireInv:KFANB</td>\n",
       "      <td>This product is out of stock</td>\n",
       "      <td>0</td>\n",
       "      <td>Lotus Fire Fan | Fire Dancing | Belly Dance</td>\n",
       "    </tr>\n",
       "    <tr>\n",
       "      <th>2</th>\n",
       "      <td>QU-AX UNICYCLE PEDAL CROSS ALUMINUM</td>\n",
       "      <td>QUAXPCA</td>\n",
       "      <td>This product is out of stock</td>\n",
       "      <td>0</td>\n",
       "      <td>QU_QX Plastic Transparent Pedals</td>\n",
       "    </tr>\n",
       "    <tr>\n",
       "      <th>3</th>\n",
       "      <td>QU_QX PLASTIC UNICYCLE PEDAL LUCENT</td>\n",
       "      <td>QUAXPL</td>\n",
       "      <td>This product is out of stock</td>\n",
       "      <td>0</td>\n",
       "      <td>QU_QX Plastic Transparent Pedals</td>\n",
       "    </tr>\n",
       "    <tr>\n",
       "      <th>4</th>\n",
       "      <td>100 Pixel Staff</td>\n",
       "      <td>GLOW:LT100</td>\n",
       "      <td>This product is out of stock</td>\n",
       "      <td>0</td>\n",
       "      <td>Pixel poi | led poi | pio swinging</td>\n",
       "    </tr>\n",
       "    <tr>\n",
       "      <th>5</th>\n",
       "      <td>12 Panel Smooth Leather Ball (70mm, 135 grams)</td>\n",
       "      <td>Bbags:SUE12S</td>\n",
       "      <td>white (1 IN STOCK)</td>\n",
       "      <td>1</td>\n",
       "      <td>Leather Juggling Balls | 12 panel beanbags | 1...</td>\n",
       "    </tr>\n",
       "    <tr>\n",
       "      <th>...</th>\n",
       "      <td>...</td>\n",
       "      <td>...</td>\n",
       "      <td>...</td>\n",
       "      <td>...</td>\n",
       "      <td>...</td>\n",
       "    </tr>\n",
       "    <tr>\n",
       "      <th>704</th>\n",
       "      <td>White PU Beanbag Six Panel (72mm, 145 grams)</td>\n",
       "      <td>Bbags:PUL</td>\n",
       "      <td>/Price Per Ball ( 12 in stock)</td>\n",
       "      <td>0</td>\n",
       "      <td>PU Beanbag | Vinyl Juggling Balls | beanbags</td>\n",
       "    </tr>\n",
       "    <tr>\n",
       "      <th>705</th>\n",
       "      <td>White PU Beanbag Twelve Panel (65mm, 115 grams)</td>\n",
       "      <td>Bbags:PUM1265</td>\n",
       "      <td>This product is out of stock</td>\n",
       "      <td>0</td>\n",
       "      <td>PU Beanbag | beanbag ball | juggling ball</td>\n",
       "    </tr>\n",
       "    <tr>\n",
       "      <th>706</th>\n",
       "      <td>White Silicone Contact Ball 100mm</td>\n",
       "      <td>silicone100</td>\n",
       "      <td>This product is out of stock</td>\n",
       "      <td>0</td>\n",
       "      <td>Contact Juggling | contact ball | silicone con...</td>\n",
       "    </tr>\n",
       "    <tr>\n",
       "      <th>707</th>\n",
       "      <td>Will Rogers Rope Trick Kit</td>\n",
       "      <td>Books:WILKIT</td>\n",
       "      <td>This product is out of stock</td>\n",
       "      <td>0</td>\n",
       "      <td>Rope Tricks | lasso tricks | learn roping tricks</td>\n",
       "    </tr>\n",
       "    <tr>\n",
       "      <th>708</th>\n",
       "      <td>Zao Line 50m and 100m lengths</td>\n",
       "      <td>Slackline</td>\n",
       "      <td>Zao Line 100 meters (OUT OF STOCK) ($149.00)</td>\n",
       "      <td>0</td>\n",
       "      <td>Slacklines | Fly Lines | Spider</td>\n",
       "    </tr>\n",
       "  </tbody>\n",
       "</table>\n",
       "<p>708 rows × 5 columns</p>\n",
       "</div>"
      ],
      "text/plain": [
       "                                               Title            SKU  \\\n",
       "1                              Lotus and Tulip Fans   FireInv:KFANB   \n",
       "2                QU-AX UNICYCLE PEDAL CROSS ALUMINUM        QUAXPCA   \n",
       "3                QU_QX PLASTIC UNICYCLE PEDAL LUCENT         QUAXPL   \n",
       "4                                    100 Pixel Staff     GLOW:LT100   \n",
       "5     12 Panel Smooth Leather Ball (70mm, 135 grams)   Bbags:SUE12S   \n",
       "..                                               ...            ...   \n",
       "704     White PU Beanbag Six Panel (72mm, 145 grams)      Bbags:PUL   \n",
       "705  White PU Beanbag Twelve Panel (65mm, 115 grams)  Bbags:PUM1265   \n",
       "706                White Silicone Contact Ball 100mm    silicone100   \n",
       "707                       Will Rogers Rope Trick Kit   Books:WILKIT   \n",
       "708                    Zao Line 50m and 100m lengths      Slackline   \n",
       "\n",
       "                                             Item  Stock Quantity  \\\n",
       "1                    This product is out of stock               0   \n",
       "2                    This product is out of stock               0   \n",
       "3                    This product is out of stock               0   \n",
       "4                    This product is out of stock               0   \n",
       "5                              white (1 IN STOCK)               1   \n",
       "..                                            ...             ...   \n",
       "704                /Price Per Ball ( 12 in stock)               0   \n",
       "705                  This product is out of stock               0   \n",
       "706                  This product is out of stock               0   \n",
       "707                  This product is out of stock               0   \n",
       "708  Zao Line 100 meters (OUT OF STOCK) ($149.00)               0   \n",
       "\n",
       "                                            Categories  \n",
       "1          Lotus Fire Fan | Fire Dancing | Belly Dance  \n",
       "2                     QU_QX Plastic Transparent Pedals  \n",
       "3                     QU_QX Plastic Transparent Pedals  \n",
       "4                   Pixel poi | led poi | pio swinging  \n",
       "5    Leather Juggling Balls | 12 panel beanbags | 1...  \n",
       "..                                                 ...  \n",
       "704       PU Beanbag | Vinyl Juggling Balls | beanbags  \n",
       "705          PU Beanbag | beanbag ball | juggling ball  \n",
       "706  Contact Juggling | contact ball | silicone con...  \n",
       "707   Rope Tricks | lasso tricks | learn roping tricks  \n",
       "708                    Slacklines | Fly Lines | Spider  \n",
       "\n",
       "[708 rows x 5 columns]"
      ]
     },
     "execution_count": 110,
     "metadata": {},
     "output_type": "execute_result"
    }
   ],
   "source": [
    "filtered_data"
   ]
  },
  {
   "cell_type": "code",
   "execution_count": 111,
   "metadata": {},
   "outputs": [
    {
     "data": {
      "text/plain": [
       "'2023.03.11-05.15PM_Renegade Juggling Inventory Scrape.csv'"
      ]
     },
     "execution_count": 111,
     "metadata": {},
     "output_type": "execute_result"
    }
   ],
   "source": [
    "now = datetime.datetime.now()\n",
    "date_string = now.strftime(\"%Y.%m.%d-%I.%M%p\")\n",
    "name = f'{date_string}_Renegade Juggling Inventory Scrape.csv'\n",
    "name"
   ]
  },
  {
   "cell_type": "code",
   "execution_count": 112,
   "metadata": {},
   "outputs": [],
   "source": [
    "filtered_data.to_csv(name)"
   ]
  },
  {
   "cell_type": "code",
   "execution_count": null,
   "metadata": {},
   "outputs": [],
   "source": []
  }
 ],
 "metadata": {
  "kernelspec": {
   "display_name": "Python 3",
   "language": "python",
   "name": "python3"
  },
  "language_info": {
   "codemirror_mode": {
    "name": "ipython",
    "version": 3
   },
   "file_extension": ".py",
   "mimetype": "text/x-python",
   "name": "python",
   "nbconvert_exporter": "python",
   "pygments_lexer": "ipython3",
   "version": "3.10.10"
  },
  "orig_nbformat": 4
 },
 "nbformat": 4,
 "nbformat_minor": 2
}
